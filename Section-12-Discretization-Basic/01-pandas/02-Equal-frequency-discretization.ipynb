{
 "cells": [
  {
   "cell_type": "markdown",
   "metadata": {},
   "source": [
    "## Discretization\n",
    "\n",
    "[Feature Engineering for Machine Learning Course](https://www.trainindata.com/p/feature-engineering-for-machine-learning)\n",
    "\n",
    "Discretization is the process of transforming continuous variables into discrete variables by creating a set of contiguous intervals that span the range of the variable's values. Discretization is also called **binning**, where bin is an alternative name for interval.\n",
    "\n",
    "\n",
    "### Discretization helps handle outliers and may improve the value spread in skewed variables\n",
    "\n",
    "Discretization helps handle outliers by placing these values into the lower or higher intervals, together with the remaining inlier values of the distribution. Thus, these outlier observations no longer differ from the rest of the values at the tails of the distribution, as they are now all together in the same interval / bucket. In addition, by creating appropriate bins or intervals, discretization can help spread the values of a skewed variable across a set of bins with an equal number of observations.\n",
    "\n",
    "\n",
    "### Discretization approaches\n",
    "\n",
    "There are several approaches to transforming continuous variables into discrete ones. Discretization methods fall into 2 categories: **supervised and unsupervised**. Unsupervised methods do not use any information, other than the variable distribution, to create the contiguous bins in which the values will be placed. Supervised methods typically use target information in order to create the bins or intervals.\n",
    "\n",
    "\n",
    "####  Unsupervised discretization methods\n",
    "\n",
    "- Equal width discretisation\n",
    "- Equal frequency discretization\n",
    "- K-means discretization\n",
    "\n",
    "#### Supervised discretization methods\n",
    "\n",
    "- Discretization using decision trees\n",
    "\n",
    "\n",
    "In this lecture, I will describe **equal frequency discretization.\n",
    "\n",
    "\n",
    "## Equal frequency discretization\n",
    "\n",
    "Equal frequency discretization divides the scope of possible values of the variable into N bins, where each bin carries the same amount of observations. This is particularly useful for skewed variables, as it spreads the observations over the different bins equally. We find the interval boundaries by determining the quantiles.\n",
    "\n",
    "Equal frequency discretization using quantiles consists of dividing the continuous variable into N quantiles, where N to be defined by the user.\n",
    "\n",
    "Equal frequency binning is straightforward to implement, and by spreading the values of the observations more evenly, it may help boost the algorithm's performance. This arbitrary binning may also disrupt the relationship with the target."
   ]
  },
  {
   "cell_type": "markdown",
   "metadata": {},
   "source": [
    "## Titanic dataset"
   ]
  },
  {
   "cell_type": "code",
   "execution_count": 1,
   "metadata": {},
   "outputs": [],
   "source": [
    "import pandas as pd\n",
    "import matplotlib.pyplot as plt\n",
    "\n",
    "from sklearn.model_selection import train_test_split"
   ]
  },
  {
   "cell_type": "code",
   "execution_count": 2,
   "metadata": {},
   "outputs": [
    {
     "data": {
      "text/html": [
       "<div>\n",
       "<style scoped>\n",
       "    .dataframe tbody tr th:only-of-type {\n",
       "        vertical-align: middle;\n",
       "    }\n",
       "\n",
       "    .dataframe tbody tr th {\n",
       "        vertical-align: top;\n",
       "    }\n",
       "\n",
       "    .dataframe thead th {\n",
       "        text-align: right;\n",
       "    }\n",
       "</style>\n",
       "<table border=\"1\" class=\"dataframe\">\n",
       "  <thead>\n",
       "    <tr style=\"text-align: right;\">\n",
       "      <th></th>\n",
       "      <th>survived</th>\n",
       "      <th>age</th>\n",
       "      <th>fare</th>\n",
       "    </tr>\n",
       "  </thead>\n",
       "  <tbody>\n",
       "    <tr>\n",
       "      <th>0</th>\n",
       "      <td>1</td>\n",
       "      <td>29.0000</td>\n",
       "      <td>211.3375</td>\n",
       "    </tr>\n",
       "    <tr>\n",
       "      <th>1</th>\n",
       "      <td>1</td>\n",
       "      <td>0.9167</td>\n",
       "      <td>151.5500</td>\n",
       "    </tr>\n",
       "    <tr>\n",
       "      <th>2</th>\n",
       "      <td>0</td>\n",
       "      <td>2.0000</td>\n",
       "      <td>151.5500</td>\n",
       "    </tr>\n",
       "    <tr>\n",
       "      <th>3</th>\n",
       "      <td>0</td>\n",
       "      <td>30.0000</td>\n",
       "      <td>151.5500</td>\n",
       "    </tr>\n",
       "    <tr>\n",
       "      <th>4</th>\n",
       "      <td>0</td>\n",
       "      <td>25.0000</td>\n",
       "      <td>151.5500</td>\n",
       "    </tr>\n",
       "  </tbody>\n",
       "</table>\n",
       "</div>"
      ],
      "text/plain": [
       "   survived      age      fare\n",
       "0         1  29.0000  211.3375\n",
       "1         1   0.9167  151.5500\n",
       "2         0   2.0000  151.5500\n",
       "3         0  30.0000  151.5500\n",
       "4         0  25.0000  151.5500"
      ]
     },
     "execution_count": 2,
     "metadata": {},
     "output_type": "execute_result"
    }
   ],
   "source": [
    "# load the numerical variables of the Titanic Dataset\n",
    "\n",
    "data = pd.read_csv('../../Datasets/titanic.csv', usecols=['age', 'fare', 'survived'])\n",
    "\n",
    "data.head()"
   ]
  },
  {
   "cell_type": "code",
   "execution_count": 3,
   "metadata": {},
   "outputs": [
    {
     "data": {
      "text/plain": [
       "((916, 2), (393, 2))"
      ]
     },
     "execution_count": 3,
     "metadata": {},
     "output_type": "execute_result"
    }
   ],
   "source": [
    "# Let's separate into train and test set\n",
    "\n",
    "X_train, X_test, y_train, y_test = train_test_split(\n",
    "    data[['age', 'fare']],\n",
    "    data['survived'],\n",
    "    test_size=0.3,\n",
    "    random_state=0)\n",
    "\n",
    "X_train.shape, X_test.shape"
   ]
  },
  {
   "cell_type": "markdown",
   "metadata": {},
   "source": [
    "The variables Age and Fare contain missing data, that I will fill by extracting a random sample of the variable."
   ]
  },
  {
   "cell_type": "code",
   "execution_count": 4,
   "metadata": {},
   "outputs": [],
   "source": [
    "def impute_na(data, variable):\n",
    "    # function to fill NA with a random sample\n",
    "\n",
    "    df = data.copy()\n",
    "\n",
    "    # random sampling\n",
    "    df[variable+'_random'] = df[variable]\n",
    "\n",
    "    # extract the random sample to fill the na\n",
    "    random_sample = X_train[variable].dropna().sample(\n",
    "        df[variable].isnull().sum(), random_state=0)\n",
    "\n",
    "    # pandas needs to have the same index in order to merge datasets\n",
    "    random_sample.index = df[df[variable].isnull()].index\n",
    "    df.loc[df[variable].isnull(), variable+'_random'] = random_sample\n",
    "\n",
    "    return df[variable+'_random']"
   ]
  },
  {
   "cell_type": "code",
   "execution_count": 5,
   "metadata": {},
   "outputs": [],
   "source": [
    "# replace NA in both train and test sets\n",
    "\n",
    "X_train['age'] = impute_na(X_train, 'age')\n",
    "X_test['age'] = impute_na(X_test, 'age')\n",
    "\n",
    "X_train['fare'] = impute_na(X_train, 'fare')\n",
    "X_test['fare'] = impute_na(X_test, 'fare')"
   ]
  },
  {
   "cell_type": "code",
   "execution_count": 6,
   "metadata": {},
   "outputs": [
    {
     "data": {
      "image/png": "[encoded data removed]",
      "text/plain": [
       "<Figure size 576x288 with 2 Axes>"
      ]
     },
     "metadata": {
      "needs_background": "light"
     },
     "output_type": "display_data"
    }
   ],
   "source": [
    "# let's explore the distribution of age\n",
    "\n",
    "X_train[['age', 'fare']].hist(bins=30, figsize=(8,4))\n",
    "plt.show()"
   ]
  },
  {
   "cell_type": "markdown",
   "metadata": {},
   "source": [
    "## Equal frequency discretization with pandas\n",
    "\n",
    "The interval limits are the quantile limits. We can find those out with pandas qcut."
   ]
  },
  {
   "cell_type": "code",
   "execution_count": 7,
   "metadata": {},
   "outputs": [
    {
     "data": {
      "text/html": [
       "<div>\n",
       "<style scoped>\n",
       "    .dataframe tbody tr th:only-of-type {\n",
       "        vertical-align: middle;\n",
       "    }\n",
       "\n",
       "    .dataframe tbody tr th {\n",
       "        vertical-align: top;\n",
       "    }\n",
       "\n",
       "    .dataframe thead th {\n",
       "        text-align: right;\n",
       "    }\n",
       "</style>\n",
       "<table border=\"1\" class=\"dataframe\">\n",
       "  <thead>\n",
       "    <tr style=\"text-align: right;\">\n",
       "      <th></th>\n",
       "      <th>age</th>\n",
       "      <th>age</th>\n",
       "    </tr>\n",
       "  </thead>\n",
       "  <tbody>\n",
       "    <tr>\n",
       "      <th>501</th>\n",
       "      <td>(0.166, 16.0]</td>\n",
       "      <td>13.0</td>\n",
       "    </tr>\n",
       "    <tr>\n",
       "      <th>588</th>\n",
       "      <td>(0.166, 16.0]</td>\n",
       "      <td>4.0</td>\n",
       "    </tr>\n",
       "    <tr>\n",
       "      <th>402</th>\n",
       "      <td>(28.0, 31.0]</td>\n",
       "      <td>30.0</td>\n",
       "    </tr>\n",
       "    <tr>\n",
       "      <th>1193</th>\n",
       "      <td>(36.0, 42.0]</td>\n",
       "      <td>40.5</td>\n",
       "    </tr>\n",
       "    <tr>\n",
       "      <th>686</th>\n",
       "      <td>(20.0, 22.0]</td>\n",
       "      <td>22.0</td>\n",
       "    </tr>\n",
       "    <tr>\n",
       "      <th>971</th>\n",
       "      <td>(36.0, 42.0]</td>\n",
       "      <td>39.0</td>\n",
       "    </tr>\n",
       "    <tr>\n",
       "      <th>117</th>\n",
       "      <td>(28.0, 31.0]</td>\n",
       "      <td>30.0</td>\n",
       "    </tr>\n",
       "    <tr>\n",
       "      <th>540</th>\n",
       "      <td>(0.166, 16.0]</td>\n",
       "      <td>2.0</td>\n",
       "    </tr>\n",
       "    <tr>\n",
       "      <th>294</th>\n",
       "      <td>(42.0, 50.0]</td>\n",
       "      <td>49.0</td>\n",
       "    </tr>\n",
       "    <tr>\n",
       "      <th>261</th>\n",
       "      <td>(31.0, 36.0]</td>\n",
       "      <td>35.0</td>\n",
       "    </tr>\n",
       "  </tbody>\n",
       "</table>\n",
       "</div>"
      ],
      "text/plain": [
       "                age   age\n",
       "501   (0.166, 16.0]  13.0\n",
       "588   (0.166, 16.0]   4.0\n",
       "402    (28.0, 31.0]  30.0\n",
       "1193   (36.0, 42.0]  40.5\n",
       "686    (20.0, 22.0]  22.0\n",
       "971    (36.0, 42.0]  39.0\n",
       "117    (28.0, 31.0]  30.0\n",
       "540   (0.166, 16.0]   2.0\n",
       "294    (42.0, 50.0]  49.0\n",
       "261    (31.0, 36.0]  35.0"
      ]
     },
     "execution_count": 7,
     "metadata": {},
     "output_type": "execute_result"
    }
   ],
   "source": [
    "# let's use pandas qcut (quantile cut) and I indicate that\n",
    "# we want 10 bins.\n",
    "\n",
    "# retbins = True indicates that I want to capture the limits\n",
    "# of each interval (so I can then use them to cut the test set)\n",
    "\n",
    "Age_disccretised, intervals = pd.qcut(\n",
    "    X_train['age'], 10, labels=None, retbins=True, precision=3, duplicates='raise')\n",
    "\n",
    "pd.concat([Age_disccretised, X_train['age']], axis=1).head(10)"
   ]
  },
  {
   "cell_type": "markdown",
   "metadata": {},
   "source": [
    "We can see in the above output how by discretising using quantiles, we placed each Age observation within one interval. For example, age 30 was placed in the 28-31 interval, whereas age 49 was placed into the 42-50 interval. \n",
    "\n",
    "Note how the interval widths are different.\n",
    "\n",
    "We can visualise the interval cut points below:"
   ]
  },
  {
   "cell_type": "code",
   "execution_count": 8,
   "metadata": {
    "scrolled": false
   },
   "outputs": [
    {
     "data": {
      "text/plain": [
       "array([ 0.1667, 16.    , 20.    , 22.    , 25.    , 28.    , 31.    ,\n",
       "       36.    , 42.    , 50.    , 74.    ])"
      ]
     },
     "execution_count": 8,
     "metadata": {},
     "output_type": "execute_result"
    }
   ],
   "source": [
    "intervals"
   ]
  },
  {
   "cell_type": "markdown",
   "metadata": {},
   "source": [
    "And because we generated the bins using the quantile cut method, we should have roughly the same amount of observations per bin. See below."
   ]
  },
  {
   "cell_type": "code",
   "execution_count": 9,
   "metadata": {},
   "outputs": [
    {
     "data": {
      "text/plain": [
       "age\n",
       "(0.166, 16.0]    106\n",
       "(31.0, 36.0]     106\n",
       "(16.0, 20.0]      92\n",
       "(22.0, 25.0]      92\n",
       "(25.0, 28.0]      92\n",
       "(28.0, 31.0]      90\n",
       "(42.0, 50.0]      90\n",
       "(36.0, 42.0]      85\n",
       "(20.0, 22.0]      82\n",
       "(50.0, 74.0]      81\n",
       "Name: count, dtype: int64"
      ]
     },
     "execution_count": 9,
     "metadata": {},
     "output_type": "execute_result"
    }
   ],
   "source": [
    "# roughly the same number of passengers per interval\n",
    "\n",
    "Age_disccretised.value_counts()"
   ]
  },
  {
   "cell_type": "code",
   "execution_count": 10,
   "metadata": {},
   "outputs": [
    {
     "data": {
      "text/plain": [
       "['Q1', 'Q2', 'Q3', 'Q4', 'Q5', 'Q6', 'Q7', 'Q8', 'Q9', 'Q10']"
      ]
     },
     "execution_count": 10,
     "metadata": {},
     "output_type": "execute_result"
    }
   ],
   "source": [
    "# we can also add labels instead of having the interval boundaries, to the bins, as follows:\n",
    "\n",
    "labels = ['Q'+str(i) for i in range(1,11)]\n",
    "labels"
   ]
  },
  {
   "cell_type": "code",
   "execution_count": 11,
   "metadata": {
    "scrolled": true
   },
   "outputs": [
    {
     "data": {
      "text/plain": [
       "501     Q1\n",
       "588     Q1\n",
       "402     Q6\n",
       "1193    Q8\n",
       "686     Q3\n",
       "Name: age, dtype: category\n",
       "Categories (10, object): ['Q1' < 'Q2' < 'Q3' < 'Q4' ... 'Q7' < 'Q8' < 'Q9' < 'Q10']"
      ]
     },
     "execution_count": 11,
     "metadata": {},
     "output_type": "execute_result"
    }
   ],
   "source": [
    "Age_disccretised, intervals = pd.qcut(X_train['age'], 10, labels=labels,\n",
    "                                      retbins=True,\n",
    "                                      precision=3, duplicates='raise')\n",
    "\n",
    "Age_disccretised.head()"
   ]
  },
  {
   "cell_type": "code",
   "execution_count": 12,
   "metadata": {},
   "outputs": [
    {
     "data": {
      "text/plain": [
       "array([-inf,  16.,  20.,  22.,  25.,  28.,  31.,  36.,  42.,  50.,  inf])"
      ]
     },
     "execution_count": 12,
     "metadata": {},
     "output_type": "execute_result"
    }
   ],
   "source": [
    "# to apply the intervals to the test set, we need to extend\n",
    "# the limits of the outer bins to -inf and +inf, so that if\n",
    "# in the test set, there are smaller or bigger values than the \n",
    "# minimum or maximum values in the train set, they can be \n",
    "# accomodated in the outer intervals. \n",
    "# Otherwise, they will be replaced by NaN.\n",
    "\n",
    "# Prepend/Append infinities to accommodate outliers\n",
    "intervals[0] = float(\"-inf\")\n",
    "intervals[len(intervals) - 1] = float(\"inf\")\n",
    "\n",
    "intervals"
   ]
  },
  {
   "cell_type": "code",
   "execution_count": 13,
   "metadata": {},
   "outputs": [
    {
     "data": {
      "text/html": [
       "<div>\n",
       "<style scoped>\n",
       "    .dataframe tbody tr th:only-of-type {\n",
       "        vertical-align: middle;\n",
       "    }\n",
       "\n",
       "    .dataframe tbody tr th {\n",
       "        vertical-align: top;\n",
       "    }\n",
       "\n",
       "    .dataframe thead th {\n",
       "        text-align: right;\n",
       "    }\n",
       "</style>\n",
       "<table border=\"1\" class=\"dataframe\">\n",
       "  <thead>\n",
       "    <tr style=\"text-align: right;\">\n",
       "      <th></th>\n",
       "      <th>age</th>\n",
       "      <th>fare</th>\n",
       "      <th>Age_disc_label</th>\n",
       "      <th>Age_disc</th>\n",
       "    </tr>\n",
       "  </thead>\n",
       "  <tbody>\n",
       "    <tr>\n",
       "      <th>1139</th>\n",
       "      <td>38.0</td>\n",
       "      <td>7.8958</td>\n",
       "      <td>Q8</td>\n",
       "      <td>(36.0, 42.0]</td>\n",
       "    </tr>\n",
       "    <tr>\n",
       "      <th>533</th>\n",
       "      <td>21.0</td>\n",
       "      <td>21.0000</td>\n",
       "      <td>Q3</td>\n",
       "      <td>(20.0, 22.0]</td>\n",
       "    </tr>\n",
       "    <tr>\n",
       "      <th>459</th>\n",
       "      <td>42.0</td>\n",
       "      <td>27.0000</td>\n",
       "      <td>Q8</td>\n",
       "      <td>(36.0, 42.0]</td>\n",
       "    </tr>\n",
       "    <tr>\n",
       "      <th>1150</th>\n",
       "      <td>3.0</td>\n",
       "      <td>14.5000</td>\n",
       "      <td>Q1</td>\n",
       "      <td>(-inf, 16.0]</td>\n",
       "    </tr>\n",
       "    <tr>\n",
       "      <th>393</th>\n",
       "      <td>25.0</td>\n",
       "      <td>31.5000</td>\n",
       "      <td>Q4</td>\n",
       "      <td>(22.0, 25.0]</td>\n",
       "    </tr>\n",
       "    <tr>\n",
       "      <th>1189</th>\n",
       "      <td>4.0</td>\n",
       "      <td>16.7000</td>\n",
       "      <td>Q1</td>\n",
       "      <td>(-inf, 16.0]</td>\n",
       "    </tr>\n",
       "    <tr>\n",
       "      <th>5</th>\n",
       "      <td>48.0</td>\n",
       "      <td>26.5500</td>\n",
       "      <td>Q9</td>\n",
       "      <td>(42.0, 50.0]</td>\n",
       "    </tr>\n",
       "    <tr>\n",
       "      <th>231</th>\n",
       "      <td>52.0</td>\n",
       "      <td>30.5000</td>\n",
       "      <td>Q10</td>\n",
       "      <td>(50.0, inf]</td>\n",
       "    </tr>\n",
       "    <tr>\n",
       "      <th>330</th>\n",
       "      <td>57.0</td>\n",
       "      <td>13.0000</td>\n",
       "      <td>Q10</td>\n",
       "      <td>(50.0, inf]</td>\n",
       "    </tr>\n",
       "    <tr>\n",
       "      <th>887</th>\n",
       "      <td>31.0</td>\n",
       "      <td>8.1125</td>\n",
       "      <td>Q6</td>\n",
       "      <td>(28.0, 31.0]</td>\n",
       "    </tr>\n",
       "  </tbody>\n",
       "</table>\n",
       "</div>"
      ],
      "text/plain": [
       "       age     fare Age_disc_label      Age_disc\n",
       "1139  38.0   7.8958             Q8  (36.0, 42.0]\n",
       "533   21.0  21.0000             Q3  (20.0, 22.0]\n",
       "459   42.0  27.0000             Q8  (36.0, 42.0]\n",
       "1150   3.0  14.5000             Q1  (-inf, 16.0]\n",
       "393   25.0  31.5000             Q4  (22.0, 25.0]\n",
       "1189   4.0  16.7000             Q1  (-inf, 16.0]\n",
       "5     48.0  26.5500             Q9  (42.0, 50.0]\n",
       "231   52.0  30.5000            Q10   (50.0, inf]\n",
       "330   57.0  13.0000            Q10   (50.0, inf]\n",
       "887   31.0   8.1125             Q6  (28.0, 31.0]"
      ]
     },
     "execution_count": 13,
     "metadata": {},
     "output_type": "execute_result"
    }
   ],
   "source": [
    "# to transform the test set:\n",
    "# we use pandas cut method (instead of qcut) and\n",
    "# pass the quantile edges calculated in the training set\n",
    "\n",
    "X_test['Age_disc_label'] = pd.cut(x = X_test['age'], bins=intervals, labels=labels)\n",
    "X_test['Age_disc'] = pd.cut(x = X_test['age'], bins=intervals)\n",
    "\n",
    "X_test.head(10)"
   ]
  },
  {
   "cell_type": "code",
   "execution_count": 14,
   "metadata": {},
   "outputs": [
    {
     "data": {
      "text/plain": [
       "0"
      ]
     },
     "execution_count": 14,
     "metadata": {},
     "output_type": "execute_result"
    }
   ],
   "source": [
    "X_test['Age_disc_label'].isnull().sum()"
   ]
  },
  {
   "cell_type": "code",
   "execution_count": 15,
   "metadata": {},
   "outputs": [
    {
     "data": {
      "text/plain": [
       "<Axes: xlabel='Age_disc'>"
      ]
     },
     "execution_count": 15,
     "metadata": {},
     "output_type": "execute_result"
    },
    {
     "data": {
      "image/png": "[encoded data removed]",
      "text/plain": [
       "<Figure size 432x288 with 1 Axes>"
      ]
     },
     "metadata": {
      "needs_background": "light"
     },
     "output_type": "display_data"
    }
   ],
   "source": [
    "# let's check that we have equal frequency (equal number of observations per bin)\n",
    "X_test['Age_disc'].value_counts(normalize=True).sort_index().plot.bar(rot=45)"
   ]
  },
  {
   "cell_type": "markdown",
   "metadata": {},
   "source": [
    "If some intervals have less observations, which can happen with skewed distributions, to make the value spread more homogeneous, we could try using less intervals."
   ]
  },
  {
   "cell_type": "code",
   "execution_count": null,
   "metadata": {},
   "outputs": [],
   "source": []
  }
 ],
 "metadata": {
  "kernelspec": {
   "display_name": "fsml",
   "language": "python",
   "name": "fsml"
  },
  "language_info": {
   "codemirror_mode": {
    "name": "ipython",
    "version": 3
   },
   "file_extension": ".py",
   "mimetype": "text/x-python",
   "name": "python",
   "nbconvert_exporter": "python",
   "pygments_lexer": "ipython3",
   "version": "3.10.5"
  },
  "toc": {
   "base_numbering": 1,
   "nav_menu": {},
   "number_sections": true,
   "sideBar": true,
   "skip_h1_title": false,
   "title_cell": "Table of Contents",
   "title_sidebar": "Contents",
   "toc_cell": false,
   "toc_position": {},
   "toc_section_display": "block",
   "toc_window_display": true
  }
 },
 "nbformat": 4,
 "nbformat_minor": 2
}
