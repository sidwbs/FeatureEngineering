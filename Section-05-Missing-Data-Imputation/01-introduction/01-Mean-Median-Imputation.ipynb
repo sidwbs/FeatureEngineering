{
 "cells": [
  {
   "cell_type": "markdown",
   "metadata": {},
   "source": [
    "## Mean / Median imputation\n",
    "\n",
    "[Feature Engineering for Machine Learning Course](https://www.trainindata.com/p/feature-engineering-for-machine-learning)\n",
    "\n",
    "Imputation is the act of replacing missing data with statistical estimates of the missing values. The goal of any imputation technique is to produce a **complete dataset** that can be used to train machine learning models.\n",
    "\n",
    "Mean/median imputation consists of replacing all occurrences of missing values (NA) within a variable by the mean (if the variable has a Gaussian distribution) or median (if the variable has a skewed distribution).\n",
    "\n",
    "**Note**:\n",
    "\n",
    "If a variable is normally distributed, the mean, median, and mode are approximately the same. Therefore, replacing missing values by the mean and the median are equivalent. \n",
    "\n",
    "If the variable is skewed, the mean is biased towards values at the end of the distribution. As a result, the median represents the majority of the values in the variable better. \n",
    "\n",
    "Replacing missing data by the mode is not common practice for numerical variables.\n",
    "\n",
    "### Which variables can I impute with mean or median imputation?\n",
    "\n",
    "The mean and median can only be calculated on numerical variables. Therefore, these methods are suitable for continuous and discrete numerical variables only.\n",
    "\n",
    "### Assumptions\n",
    "\n",
    "- Data is missing completely at random.\n",
    "\n",
    "If data is missing at random, it's safe to assume that the missing values are extremely close to the mean or median of the distribution, which is the value of the majority of the observations. \n",
    "\n",
    "### Advantages\n",
    "\n",
    "- Fast way of obtaining complete datasets\n",
    "\n",
    "### Limitations\n",
    "\n",
    "- Distortion of the original variable distribution (if the fraction of NA is large):\n",
    "\n",
    "    - Distortion of the variance\n",
    "\n",
    "    - Distortion of the covariance with other variables of the dataset\n",
    "\n",
    "If the proportion of NA is large, the variance of the variable will be distorted when it is replaced with the mean or median, resulting in an underestimating of the variance. \n",
    "\n",
    "Estimates of covariance and correlations with other variables may also be affected. Because the mean or median value that now substitutes the missing data does not always retain the relation with the remaining variables, mean or median imputation may change intrinsic correlations. \n",
    "\n",
    "Finally, \"concentrating\" missing values at the mean or median value may lead to observations that are common occurrences in the distribution being picked up as outliers.\n",
    "\n",
    "### When should mean or median imputation be used?\n",
    "\n",
    "- Data is missing completely at random\n",
    "\n",
    "- No more than 5% of the variable contains missing data\n",
    "\n",
    "Although in theory, the above conditions should be met to minimise the impact of this imputation technique, in practice, mean / median imputation is very commonly used, even when data is not MCAR and the fraction of missing values is large. The reason behind this, is the simplicity of the technique.\n",
    "\n",
    "### Final note\n",
    "\n",
    "Replacement of NA with mean or median is widely used in the data science community and in data science competitions. See, for example, the winning solution of the KDD 2009 cup: [\"Winning the KDD Cup Orange Challenge with Ensemble Selection\"]( http://www.mtome.com/Publications/CiML/CiML-v3-book.pdf).\n",
    "\n",
    "Typically, mean and median imputation is done together with adding a \"missing indicator\" variable to mark observations where the data was missing (see lecture \"Missing Indicator\"), thus covering 2 angles: if the data was missing completely at random, this would be captured by the mean and median imputation, and if it wasn't, this would be captured by the additional \"missing indicator\" variable. Both methods are extremely straightforward to implement and therefore are a top choice for imputation.\n",
    "\n",
    "## Datasets:\n",
    "\n",
    "- Ames House Price\n",
    "- Titanic\n",
    "\n",
    "To download the datasets, please refer to the lecture **Datasets** in **Section 2** of this course."
   ]
  },
  {
   "cell_type": "code",
   "execution_count": 1,
   "metadata": {},
   "outputs": [],
   "source": [
    "import pandas as pd\n",
    "import numpy as np\n",
    "\n",
    "import matplotlib.pyplot as plt\n",
    "\n",
    "# to split the datasets\n",
    "from sklearn.model_selection import train_test_split"
   ]
  },
  {
   "cell_type": "markdown",
   "metadata": {},
   "source": [
    "## Titanic"
   ]
  },
  {
   "cell_type": "code",
   "execution_count": 2,
   "metadata": {},
   "outputs": [
    {
     "data": {
      "text/html": [
       "<div>\n",
       "<style scoped>\n",
       "    .dataframe tbody tr th:only-of-type {\n",
       "        vertical-align: middle;\n",
       "    }\n",
       "\n",
       "    .dataframe tbody tr th {\n",
       "        vertical-align: top;\n",
       "    }\n",
       "\n",
       "    .dataframe thead th {\n",
       "        text-align: right;\n",
       "    }\n",
       "</style>\n",
       "<table border=\"1\" class=\"dataframe\">\n",
       "  <thead>\n",
       "    <tr style=\"text-align: right;\">\n",
       "      <th></th>\n",
       "      <th>survived</th>\n",
       "      <th>age</th>\n",
       "      <th>fare</th>\n",
       "    </tr>\n",
       "  </thead>\n",
       "  <tbody>\n",
       "    <tr>\n",
       "      <th>0</th>\n",
       "      <td>1</td>\n",
       "      <td>29.0000</td>\n",
       "      <td>211.3375</td>\n",
       "    </tr>\n",
       "    <tr>\n",
       "      <th>1</th>\n",
       "      <td>1</td>\n",
       "      <td>0.9167</td>\n",
       "      <td>151.5500</td>\n",
       "    </tr>\n",
       "    <tr>\n",
       "      <th>2</th>\n",
       "      <td>0</td>\n",
       "      <td>2.0000</td>\n",
       "      <td>151.5500</td>\n",
       "    </tr>\n",
       "    <tr>\n",
       "      <th>3</th>\n",
       "      <td>0</td>\n",
       "      <td>30.0000</td>\n",
       "      <td>151.5500</td>\n",
       "    </tr>\n",
       "    <tr>\n",
       "      <th>4</th>\n",
       "      <td>0</td>\n",
       "      <td>25.0000</td>\n",
       "      <td>151.5500</td>\n",
       "    </tr>\n",
       "  </tbody>\n",
       "</table>\n",
       "</div>"
      ],
      "text/plain": [
       "   survived      age      fare\n",
       "0         1  29.0000  211.3375\n",
       "1         1   0.9167  151.5500\n",
       "2         0   2.0000  151.5500\n",
       "3         0  30.0000  151.5500\n",
       "4         0  25.0000  151.5500"
      ]
     },
     "execution_count": 2,
     "metadata": {},
     "output_type": "execute_result"
    }
   ],
   "source": [
    "# Load the Titanic dataset with a few variables for demonstration.\n",
    "\n",
    "data = pd.read_csv(\"../../Datasets/titanic.csv\", usecols=[\"age\", \"fare\", \"survived\"])\n",
    "data.head()"
   ]
  },
  {
   "cell_type": "code",
   "execution_count": 3,
   "metadata": {},
   "outputs": [
    {
     "data": {
      "text/plain": [
       "survived    0.000000\n",
       "age         0.200917\n",
       "fare        0.000764\n",
       "dtype: float64"
      ]
     },
     "execution_count": 3,
     "metadata": {},
     "output_type": "execute_result"
    }
   ],
   "source": [
    "# Let's look at the fraction of NA.\n",
    "\n",
    "data.isnull().mean()"
   ]
  },
  {
   "cell_type": "markdown",
   "metadata": {},
   "source": [
    "Age and fare show missing data. If instead of `mean()`, we use `sum()`, we will see that fare only has 1 missing value.\n",
    "\n",
    "### Imputation important\n",
    "\n",
    "The imputation values (that is the mean/median) should be calculated using the training set, and the same value should be used to impute the test set. This is to avoid overfitting."
   ]
  },
  {
   "cell_type": "code",
   "execution_count": 4,
   "metadata": {},
   "outputs": [
    {
     "data": {
      "text/plain": [
       "((654, 2), (655, 2))"
      ]
     },
     "execution_count": 4,
     "metadata": {},
     "output_type": "execute_result"
    }
   ],
   "source": [
    "# Let's separate into training and testing set.\n",
    "\n",
    "X_train, X_test, y_train, y_test = train_test_split(\n",
    "    data[[\"age\", \"fare\"]],  # predictors\n",
    "    data[\"survived\"],  # target\n",
    "    test_size=0.5,  # percentage of obs in test set\n",
    "    random_state=0,\n",
    ")  # seed to ensure reproducibility\n",
    "\n",
    "X_train.shape, X_test.shape"
   ]
  },
  {
   "cell_type": "code",
   "execution_count": 5,
   "metadata": {},
   "outputs": [
    {
     "data": {
      "text/plain": [
       "age     0.191131\n",
       "fare    0.000000\n",
       "dtype: float64"
      ]
     },
     "execution_count": 5,
     "metadata": {},
     "output_type": "execute_result"
    }
   ],
   "source": [
    "# Let's explore the missing data in the train set.\n",
    "# The percentage of NA should be fairly similar to those\n",
    "# observed in the whole dataset.\n",
    "\n",
    "X_train.isnull().mean()"
   ]
  },
  {
   "cell_type": "code",
   "execution_count": 6,
   "metadata": {},
   "outputs": [
    {
     "data": {
      "text/plain": [
       "28.0"
      ]
     },
     "execution_count": 6,
     "metadata": {},
     "output_type": "execute_result"
    }
   ],
   "source": [
    "# Calculate the median Age.\n",
    "\n",
    "median = X_train.age.median()\n",
    "median"
   ]
  },
  {
   "cell_type": "code",
   "execution_count": 7,
   "metadata": {},
   "outputs": [
    {
     "data": {
      "text/plain": [
       "30.0"
      ]
     },
     "execution_count": 7,
     "metadata": {},
     "output_type": "execute_result"
    }
   ],
   "source": [
    "# Calculate the mean Age\n",
    "\n",
    "mean = X_train.age.mean()\n",
    "\n",
    "# The mean contains many decimals, so I round to 1\n",
    "# using the round function from numpy.\n",
    "mean = np.round(mean, 1)\n",
    "\n",
    "mean"
   ]
  },
  {
   "cell_type": "code",
   "execution_count": 8,
   "metadata": {},
   "outputs": [
    {
     "data": {
      "text/html": [
       "<div>\n",
       "<style scoped>\n",
       "    .dataframe tbody tr th:only-of-type {\n",
       "        vertical-align: middle;\n",
       "    }\n",
       "\n",
       "    .dataframe tbody tr th {\n",
       "        vertical-align: top;\n",
       "    }\n",
       "\n",
       "    .dataframe thead th {\n",
       "        text-align: right;\n",
       "    }\n",
       "</style>\n",
       "<table border=\"1\" class=\"dataframe\">\n",
       "  <thead>\n",
       "    <tr style=\"text-align: right;\">\n",
       "      <th></th>\n",
       "      <th>age</th>\n",
       "      <th>fare</th>\n",
       "      <th>Age_median</th>\n",
       "      <th>Age_mean</th>\n",
       "    </tr>\n",
       "  </thead>\n",
       "  <tbody>\n",
       "    <tr>\n",
       "      <th>293</th>\n",
       "      <td>NaN</td>\n",
       "      <td>52.0000</td>\n",
       "      <td>28.0</td>\n",
       "      <td>30.0</td>\n",
       "    </tr>\n",
       "    <tr>\n",
       "      <th>76</th>\n",
       "      <td>39.0</td>\n",
       "      <td>83.1583</td>\n",
       "      <td>39.0</td>\n",
       "      <td>39.0</td>\n",
       "    </tr>\n",
       "    <tr>\n",
       "      <th>48</th>\n",
       "      <td>53.0</td>\n",
       "      <td>27.4458</td>\n",
       "      <td>53.0</td>\n",
       "      <td>53.0</td>\n",
       "    </tr>\n",
       "    <tr>\n",
       "      <th>689</th>\n",
       "      <td>22.0</td>\n",
       "      <td>7.2500</td>\n",
       "      <td>22.0</td>\n",
       "      <td>22.0</td>\n",
       "    </tr>\n",
       "    <tr>\n",
       "      <th>1195</th>\n",
       "      <td>NaN</td>\n",
       "      <td>7.7500</td>\n",
       "      <td>28.0</td>\n",
       "      <td>30.0</td>\n",
       "    </tr>\n",
       "    <tr>\n",
       "      <th>1182</th>\n",
       "      <td>21.0</td>\n",
       "      <td>7.6500</td>\n",
       "      <td>21.0</td>\n",
       "      <td>21.0</td>\n",
       "    </tr>\n",
       "    <tr>\n",
       "      <th>332</th>\n",
       "      <td>23.0</td>\n",
       "      <td>10.5000</td>\n",
       "      <td>23.0</td>\n",
       "      <td>23.0</td>\n",
       "    </tr>\n",
       "    <tr>\n",
       "      <th>576</th>\n",
       "      <td>40.0</td>\n",
       "      <td>13.0000</td>\n",
       "      <td>40.0</td>\n",
       "      <td>40.0</td>\n",
       "    </tr>\n",
       "    <tr>\n",
       "      <th>622</th>\n",
       "      <td>4.0</td>\n",
       "      <td>31.2750</td>\n",
       "      <td>4.0</td>\n",
       "      <td>4.0</td>\n",
       "    </tr>\n",
       "    <tr>\n",
       "      <th>564</th>\n",
       "      <td>40.0</td>\n",
       "      <td>13.0000</td>\n",
       "      <td>40.0</td>\n",
       "      <td>40.0</td>\n",
       "    </tr>\n",
       "    <tr>\n",
       "      <th>1138</th>\n",
       "      <td>NaN</td>\n",
       "      <td>7.2500</td>\n",
       "      <td>28.0</td>\n",
       "      <td>30.0</td>\n",
       "    </tr>\n",
       "    <tr>\n",
       "      <th>766</th>\n",
       "      <td>25.0</td>\n",
       "      <td>7.8958</td>\n",
       "      <td>25.0</td>\n",
       "      <td>25.0</td>\n",
       "    </tr>\n",
       "    <tr>\n",
       "      <th>409</th>\n",
       "      <td>36.0</td>\n",
       "      <td>13.0000</td>\n",
       "      <td>36.0</td>\n",
       "      <td>36.0</td>\n",
       "    </tr>\n",
       "    <tr>\n",
       "      <th>994</th>\n",
       "      <td>NaN</td>\n",
       "      <td>7.2292</td>\n",
       "      <td>28.0</td>\n",
       "      <td>30.0</td>\n",
       "    </tr>\n",
       "    <tr>\n",
       "      <th>1301</th>\n",
       "      <td>45.5</td>\n",
       "      <td>7.2250</td>\n",
       "      <td>45.5</td>\n",
       "      <td>45.5</td>\n",
       "    </tr>\n",
       "  </tbody>\n",
       "</table>\n",
       "</div>"
      ],
      "text/plain": [
       "       age     fare  Age_median  Age_mean\n",
       "293    NaN  52.0000        28.0      30.0\n",
       "76    39.0  83.1583        39.0      39.0\n",
       "48    53.0  27.4458        53.0      53.0\n",
       "689   22.0   7.2500        22.0      22.0\n",
       "1195   NaN   7.7500        28.0      30.0\n",
       "1182  21.0   7.6500        21.0      21.0\n",
       "332   23.0  10.5000        23.0      23.0\n",
       "576   40.0  13.0000        40.0      40.0\n",
       "622    4.0  31.2750         4.0       4.0\n",
       "564   40.0  13.0000        40.0      40.0\n",
       "1138   NaN   7.2500        28.0      30.0\n",
       "766   25.0   7.8958        25.0      25.0\n",
       "409   36.0  13.0000        36.0      36.0\n",
       "994    NaN   7.2292        28.0      30.0\n",
       "1301  45.5   7.2250        45.5      45.5"
      ]
     },
     "execution_count": 8,
     "metadata": {},
     "output_type": "execute_result"
    }
   ],
   "source": [
    "# Create a new variable with the missing values replaced\n",
    "# using the function we created above.\n",
    "\n",
    "# First, replace with the median.\n",
    "X_train[\"Age_median\"] = X_train[\"age\"].fillna(median)\n",
    "\n",
    "# Now replace with the mean.\n",
    "X_train[\"Age_mean\"] = X_train[\"age\"].fillna(mean)\n",
    "\n",
    "X_train.head(15)"
   ]
  },
  {
   "cell_type": "markdown",
   "metadata": {},
   "source": [
    "Look at the rows with missing data (NaN) in Age, and see how in the new variables those were replaced by either 28 (median) or 30 (mean)."
   ]
  },
  {
   "cell_type": "code",
   "execution_count": 9,
   "metadata": {},
   "outputs": [
    {
     "name": "stdout",
     "output_type": "stream",
     "text": [
      "Original variable variance:  194.29926044010145\n",
      "Variance after median imputation:  157.7015471214206\n",
      "Variance after mean imputation:  157.10590761240317\n"
     ]
    }
   ],
   "source": [
    "# We can see a change in the variance after mean / median imputation.\n",
    "# This is expected, because the percentage of missing data is quite\n",
    "# high in Age, ~20%.\n",
    "\n",
    "print(\"Original variable variance: \", X_train[\"age\"].var())\n",
    "print(\"Variance after median imputation: \", X_train[\"Age_median\"].var())\n",
    "print(\"Variance after mean imputation: \", X_train[\"Age_mean\"].var())"
   ]
  },
  {
   "cell_type": "markdown",
   "metadata": {},
   "source": [
    "As expected, the variance is underestimated because many values are now the same (i.e., the mean or the median value)."
   ]
  },
  {
   "cell_type": "code",
   "execution_count": 10,
   "metadata": {},
   "outputs": [
    {
     "data": {
      "text/plain": [
       "<matplotlib.legend.Legend at 0x1effb6ef5e0>"
      ]
     },
     "execution_count": 10,
     "metadata": {},
     "output_type": "execute_result"
    },
    {
     "data": {
      "image/png": "[encoded data removed]",
      "text/plain": [
       "<Figure size 432x288 with 1 Axes>"
      ]
     },
     "metadata": {
      "needs_background": "light"
     },
     "output_type": "display_data"
    }
   ],
   "source": [
    "# We can see that the distribution has changed:\n",
    "# there are now more values towards the median\n",
    "# or median.\n",
    "\n",
    "fig = plt.figure()\n",
    "ax = fig.add_subplot(111)\n",
    "\n",
    "# original variable distribution\n",
    "X_train[\"age\"].plot(kind=\"kde\", ax=ax)\n",
    "\n",
    "# variable imputed with the median\n",
    "X_train[\"Age_median\"].plot(kind=\"kde\", ax=ax, color=\"red\")\n",
    "\n",
    "# variable imputed with the mean\n",
    "X_train[\"Age_mean\"].plot(kind=\"kde\", ax=ax, color=\"green\")\n",
    "\n",
    "# add legends\n",
    "lines, labels = ax.get_legend_handles_labels()\n",
    "ax.legend(lines, labels, loc=\"best\")"
   ]
  },
  {
   "cell_type": "markdown",
   "metadata": {},
   "source": [
    "As mentioned previously, the mean / median imputation distorted the original distribution of the variable Age. The transformed variable shows more values around the mean / median values.\n",
    "\n",
    "**Is this important?**\n",
    "\n",
    "It depends on the machine learning model you want to build. Distorting the variable distribution may affect its relationship with the target, which might be important for linear models. Therefore, the final imputed variable might negatively affect the linear model's performance."
   ]
  },
  {
   "cell_type": "code",
   "execution_count": 11,
   "metadata": {},
   "outputs": [
    {
     "data": {
      "text/html": [
       "<div>\n",
       "<style scoped>\n",
       "    .dataframe tbody tr th:only-of-type {\n",
       "        vertical-align: middle;\n",
       "    }\n",
       "\n",
       "    .dataframe tbody tr th {\n",
       "        vertical-align: top;\n",
       "    }\n",
       "\n",
       "    .dataframe thead th {\n",
       "        text-align: right;\n",
       "    }\n",
       "</style>\n",
       "<table border=\"1\" class=\"dataframe\">\n",
       "  <thead>\n",
       "    <tr style=\"text-align: right;\">\n",
       "      <th></th>\n",
       "      <th>fare</th>\n",
       "      <th>age</th>\n",
       "      <th>Age_median</th>\n",
       "      <th>Age_mean</th>\n",
       "    </tr>\n",
       "  </thead>\n",
       "  <tbody>\n",
       "    <tr>\n",
       "      <th>fare</th>\n",
       "      <td>2199.947144</td>\n",
       "      <td>111.318279</td>\n",
       "      <td>93.569378</td>\n",
       "      <td>89.939797</td>\n",
       "    </tr>\n",
       "    <tr>\n",
       "      <th>age</th>\n",
       "      <td>111.318279</td>\n",
       "      <td>194.299260</td>\n",
       "      <td>194.299260</td>\n",
       "      <td>194.299260</td>\n",
       "    </tr>\n",
       "    <tr>\n",
       "      <th>Age_median</th>\n",
       "      <td>93.569378</td>\n",
       "      <td>194.299260</td>\n",
       "      <td>157.701547</td>\n",
       "      <td>157.094053</td>\n",
       "    </tr>\n",
       "    <tr>\n",
       "      <th>Age_mean</th>\n",
       "      <td>89.939797</td>\n",
       "      <td>194.299260</td>\n",
       "      <td>157.094053</td>\n",
       "      <td>157.105908</td>\n",
       "    </tr>\n",
       "  </tbody>\n",
       "</table>\n",
       "</div>"
      ],
      "text/plain": [
       "                   fare         age  Age_median    Age_mean\n",
       "fare        2199.947144  111.318279   93.569378   89.939797\n",
       "age          111.318279  194.299260  194.299260  194.299260\n",
       "Age_median    93.569378  194.299260  157.701547  157.094053\n",
       "Age_mean      89.939797  194.299260  157.094053  157.105908"
      ]
     },
     "execution_count": 11,
     "metadata": {},
     "output_type": "execute_result"
    }
   ],
   "source": [
    "# We also said that mean / median imputation may affect the relationship\n",
    "# with the other variables in the dataset.\n",
    "\n",
    "# Let's have a look.\n",
    "\n",
    "X_train[[\"fare\", \"age\", \"Age_median\", \"Age_mean\"]].cov()"
   ]
  },
  {
   "cell_type": "markdown",
   "metadata": {},
   "source": [
    "The covariance between Age and Fare changed with the mean / median imputation."
   ]
  },
  {
   "cell_type": "code",
   "execution_count": 12,
   "metadata": {},
   "outputs": [
    {
     "data": {
      "text/plain": [
       "<Axes: >"
      ]
     },
     "execution_count": 12,
     "metadata": {},
     "output_type": "execute_result"
    },
    {
     "data": {
      "image/png": "[encoded data removed]",
      "text/plain": [
       "<Figure size 432x288 with 1 Axes>"
      ]
     },
     "metadata": {
      "needs_background": "light"
     },
     "output_type": "display_data"
    }
   ],
   "source": [
    "# Finally, I mentioned that mean / median imputation may lead\n",
    "# inliers to look like outliers.\n",
    "\n",
    "# In other words, mean / median imputation may lead to an increase\n",
    "# in the number of detected outliers.\n",
    "\n",
    "# Let's find out using a boxplot.\n",
    "X_train[[\"age\", \"Age_median\", \"Age_mean\"]].boxplot()"
   ]
  },
  {
   "cell_type": "markdown",
   "metadata": {},
   "source": [
    "From the boxplot, we can see that after the imputation, we not only have more outliers at the higher age values, but we now have outliers as well at the lower age values.\n",
    "\n",
    "**Is this important?**\n",
    "\n",
    "If we are after true outliers, we need to keep this behavior in mind to make sure that we are neither masking nor creating artificial outliers with our imputation technique. In practice, we normally don't check for this behaviour at all. But I think it is important to know that it is happening.\n",
    "\n",
    "## House Prices Dataset\n",
    "\n",
    "In this dataset, there are variables with a lot or with a few missing data points. Therefore, we can compare the effects of mean and median imputation in both cases."
   ]
  },
  {
   "cell_type": "code",
   "execution_count": 13,
   "metadata": {},
   "outputs": [],
   "source": [
    "# We'll use the following variables,\n",
    "# 3 of which contain NA.\n",
    "\n",
    "cols_to_use = [\n",
    "    \"OverallQual\",\n",
    "    \"TotalBsmtSF\",\n",
    "    \"1stFlrSF\",\n",
    "    \"GrLivArea\",\n",
    "    \"WoodDeckSF\",\n",
    "    \"BsmtUnfSF\",\n",
    "    \"LotFrontage\",\n",
    "    \"MasVnrArea\",\n",
    "    \"GarageYrBlt\",\n",
    "    \"SalePrice\",\n",
    "]"
   ]
  },
  {
   "cell_type": "code",
   "execution_count": 14,
   "metadata": {},
   "outputs": [
    {
     "name": "stdout",
     "output_type": "stream",
     "text": [
      "(1460, 10)\n"
     ]
    },
    {
     "data": {
      "text/html": [
       "<div>\n",
       "<style scoped>\n",
       "    .dataframe tbody tr th:only-of-type {\n",
       "        vertical-align: middle;\n",
       "    }\n",
       "\n",
       "    .dataframe tbody tr th {\n",
       "        vertical-align: top;\n",
       "    }\n",
       "\n",
       "    .dataframe thead th {\n",
       "        text-align: right;\n",
       "    }\n",
       "</style>\n",
       "<table border=\"1\" class=\"dataframe\">\n",
       "  <thead>\n",
       "    <tr style=\"text-align: right;\">\n",
       "      <th></th>\n",
       "      <th>LotFrontage</th>\n",
       "      <th>OverallQual</th>\n",
       "      <th>MasVnrArea</th>\n",
       "      <th>BsmtUnfSF</th>\n",
       "      <th>TotalBsmtSF</th>\n",
       "      <th>1stFlrSF</th>\n",
       "      <th>GrLivArea</th>\n",
       "      <th>GarageYrBlt</th>\n",
       "      <th>WoodDeckSF</th>\n",
       "      <th>SalePrice</th>\n",
       "    </tr>\n",
       "  </thead>\n",
       "  <tbody>\n",
       "    <tr>\n",
       "      <th>0</th>\n",
       "      <td>65.0</td>\n",
       "      <td>7</td>\n",
       "      <td>196.0</td>\n",
       "      <td>150</td>\n",
       "      <td>856</td>\n",
       "      <td>856</td>\n",
       "      <td>1710</td>\n",
       "      <td>2003.0</td>\n",
       "      <td>0</td>\n",
       "      <td>208500</td>\n",
       "    </tr>\n",
       "    <tr>\n",
       "      <th>1</th>\n",
       "      <td>80.0</td>\n",
       "      <td>6</td>\n",
       "      <td>0.0</td>\n",
       "      <td>284</td>\n",
       "      <td>1262</td>\n",
       "      <td>1262</td>\n",
       "      <td>1262</td>\n",
       "      <td>1976.0</td>\n",
       "      <td>298</td>\n",
       "      <td>181500</td>\n",
       "    </tr>\n",
       "    <tr>\n",
       "      <th>2</th>\n",
       "      <td>68.0</td>\n",
       "      <td>7</td>\n",
       "      <td>162.0</td>\n",
       "      <td>434</td>\n",
       "      <td>920</td>\n",
       "      <td>920</td>\n",
       "      <td>1786</td>\n",
       "      <td>2001.0</td>\n",
       "      <td>0</td>\n",
       "      <td>223500</td>\n",
       "    </tr>\n",
       "    <tr>\n",
       "      <th>3</th>\n",
       "      <td>60.0</td>\n",
       "      <td>7</td>\n",
       "      <td>0.0</td>\n",
       "      <td>540</td>\n",
       "      <td>756</td>\n",
       "      <td>961</td>\n",
       "      <td>1717</td>\n",
       "      <td>1998.0</td>\n",
       "      <td>0</td>\n",
       "      <td>140000</td>\n",
       "    </tr>\n",
       "    <tr>\n",
       "      <th>4</th>\n",
       "      <td>84.0</td>\n",
       "      <td>8</td>\n",
       "      <td>350.0</td>\n",
       "      <td>490</td>\n",
       "      <td>1145</td>\n",
       "      <td>1145</td>\n",
       "      <td>2198</td>\n",
       "      <td>2000.0</td>\n",
       "      <td>192</td>\n",
       "      <td>250000</td>\n",
       "    </tr>\n",
       "  </tbody>\n",
       "</table>\n",
       "</div>"
      ],
      "text/plain": [
       "   LotFrontage  OverallQual  MasVnrArea  BsmtUnfSF  TotalBsmtSF  1stFlrSF  \\\n",
       "0         65.0            7       196.0        150          856       856   \n",
       "1         80.0            6         0.0        284         1262      1262   \n",
       "2         68.0            7       162.0        434          920       920   \n",
       "3         60.0            7         0.0        540          756       961   \n",
       "4         84.0            8       350.0        490         1145      1145   \n",
       "\n",
       "   GrLivArea  GarageYrBlt  WoodDeckSF  SalePrice  \n",
       "0       1710       2003.0           0     208500  \n",
       "1       1262       1976.0         298     181500  \n",
       "2       1786       2001.0           0     223500  \n",
       "3       1717       1998.0           0     140000  \n",
       "4       2198       2000.0         192     250000  "
      ]
     },
     "execution_count": 14,
     "metadata": {},
     "output_type": "execute_result"
    }
   ],
   "source": [
    "# Let's load the House Prices dataset.\n",
    "\n",
    "data = pd.read_csv(\"../../Datasets/houseprice.csv\", usecols=cols_to_use)\n",
    "print(data.shape)\n",
    "data.head()"
   ]
  },
  {
   "cell_type": "code",
   "execution_count": 15,
   "metadata": {},
   "outputs": [
    {
     "data": {
      "text/plain": [
       "['LotFrontage', 'MasVnrArea', 'GarageYrBlt']"
      ]
     },
     "execution_count": 15,
     "metadata": {},
     "output_type": "execute_result"
    }
   ],
   "source": [
    "# print the variables with missing data.\n",
    "\n",
    "# In the next list comprehension, I loop over all the columns\n",
    "# of the dataset and select those with missing data.\n",
    "\n",
    "[var for var in data.columns if data[var].isnull().sum() > 0]"
   ]
  },
  {
   "cell_type": "code",
   "execution_count": 16,
   "metadata": {},
   "outputs": [
    {
     "data": {
      "text/plain": [
       "LotFrontage    0.177397\n",
       "MasVnrArea     0.005479\n",
       "GarageYrBlt    0.055479\n",
       "dtype: float64"
      ]
     },
     "execution_count": 16,
     "metadata": {},
     "output_type": "execute_result"
    }
   ],
   "source": [
    "# Find the percentage of missing data in those variables\n",
    "# (same code used in section 3).\n",
    "\n",
    "data[[\"LotFrontage\", \"MasVnrArea\", \"GarageYrBlt\"]].isnull().mean()"
   ]
  },
  {
   "cell_type": "markdown",
   "metadata": {},
   "source": [
    "**Remember that the mean and the median that we will use to replace the NA are calculated using  the train set.**"
   ]
  },
  {
   "cell_type": "code",
   "execution_count": 17,
   "metadata": {},
   "outputs": [
    {
     "data": {
      "text/plain": [
       "((1022, 9), (438, 9))"
      ]
     },
     "execution_count": 17,
     "metadata": {},
     "output_type": "execute_result"
    }
   ],
   "source": [
    "# Let's separate into training and testing sets.\n",
    "\n",
    "X_train, X_test, y_train, y_test = train_test_split(\n",
    "    data.drop(\"SalePrice\", axis=1),\n",
    "    data[\"SalePrice\"],\n",
    "    test_size=0.3,\n",
    "    random_state=0,\n",
    ")\n",
    "\n",
    "X_train.shape, X_test.shape"
   ]
  },
  {
   "cell_type": "code",
   "execution_count": 18,
   "metadata": {},
   "outputs": [
    {
     "data": {
      "image/png": "[encoded data removed]",
      "text/plain": [
       "<Figure size 720x720 with 9 Axes>"
      ]
     },
     "metadata": {
      "needs_background": "light"
     },
     "output_type": "display_data"
    }
   ],
   "source": [
    "# Let's plot the distributions of the variables.\n",
    "# We learned this code in section 3.\n",
    "\n",
    "X_train.hist(bins=50, figsize=(10, 10))\n",
    "plt.show()"
   ]
  },
  {
   "cell_type": "code",
   "execution_count": 19,
   "metadata": {},
   "outputs": [],
   "source": [
    "# Create a new variable with missing values replaced\n",
    "# by the median using the function we created previously.\n",
    "\n",
    "# I repeat the following lines for each of the variables with NA\n",
    "# over the next cells.\n",
    "\n",
    "median = X_train[\"LotFrontage\"].median()\n",
    "\n",
    "X_train[\"LotFrontage_median\"] = X_train[\"LotFrontage\"].fillna(median)\n",
    "X_test[\"LotFrontage_median\"] = X_test[\"LotFrontage\"].fillna(median)"
   ]
  },
  {
   "cell_type": "code",
   "execution_count": 20,
   "metadata": {},
   "outputs": [],
   "source": [
    "median = X_train[\"MasVnrArea\"].median()\n",
    "\n",
    "X_train[\"MasVnrArea_median\"] = X_train[\"MasVnrArea\"].fillna(median)\n",
    "X_test[\"MasVnrArea_median\"] = X_test[\"MasVnrArea\"].fillna(median)"
   ]
  },
  {
   "cell_type": "code",
   "execution_count": 21,
   "metadata": {},
   "outputs": [],
   "source": [
    "median = X_train[\"GarageYrBlt\"].median()\n",
    "\n",
    "X_train[\"GarageYrBlt_median\"] = X_train[\"GarageYrBlt\"].fillna(median)\n",
    "X_test[\"GarageYrBlt_median\"] = X_test[\"GarageYrBlt\"].fillna(median)"
   ]
  },
  {
   "cell_type": "code",
   "execution_count": 22,
   "metadata": {},
   "outputs": [
    {
     "data": {
      "text/plain": [
       "<matplotlib.legend.Legend at 0x1ef81836770>"
      ]
     },
     "execution_count": 22,
     "metadata": {},
     "output_type": "execute_result"
    },
    {
     "data": {
      "image/png": "[encoded data removed]",
      "text/plain": [
       "<Figure size 432x288 with 1 Axes>"
      ]
     },
     "metadata": {
      "needs_background": "light"
     },
     "output_type": "display_data"
    }
   ],
   "source": [
    "# Let's evaluate the effect of median imputation on the distribution.\n",
    "\n",
    "# We can see that the distribution has changed for LotFrontAge,\n",
    "# there are more values towards the median.\n",
    "\n",
    "fig = plt.figure()\n",
    "ax = fig.add_subplot(111)\n",
    "\n",
    "# Original variable distribution.\n",
    "X_train[\"LotFrontage\"].plot(kind=\"kde\", ax=ax)\n",
    "\n",
    "# Variable imputed with the median.\n",
    "X_train[\"LotFrontage_median\"].plot(kind=\"kde\", ax=ax, color=\"red\")\n",
    "\n",
    "# Add legends.\n",
    "lines, labels = ax.get_legend_handles_labels()\n",
    "ax.legend(lines, labels, loc=\"best\")"
   ]
  },
  {
   "cell_type": "code",
   "execution_count": 23,
   "metadata": {},
   "outputs": [
    {
     "data": {
      "text/plain": [
       "<matplotlib.legend.Legend at 0x1ef818b6350>"
      ]
     },
     "execution_count": 23,
     "metadata": {},
     "output_type": "execute_result"
    },
    {
     "data": {
      "image/png": "[encoded data removed]",
      "text/plain": [
       "<Figure size 432x288 with 1 Axes>"
      ]
     },
     "metadata": {
      "needs_background": "light"
     },
     "output_type": "display_data"
    }
   ],
   "source": [
    "# For MasVnrArea, because the percentage of missing data\n",
    "# was low, we don't expect and won't see a dramatic change in the\n",
    "# distribution of the variable.\n",
    "\n",
    "fig = plt.figure()\n",
    "ax = fig.add_subplot(111)\n",
    "\n",
    "# original variable distribution\n",
    "X_train[\"MasVnrArea\"].plot(kind=\"kde\", ax=ax)\n",
    "\n",
    "# variable imputed with the median\n",
    "X_train[\"MasVnrArea_median\"].plot(kind=\"kde\", ax=ax, color=\"red\")\n",
    "\n",
    "# add legends\n",
    "lines, labels = ax.get_legend_handles_labels()\n",
    "ax.legend(lines, labels, loc=\"best\")"
   ]
  },
  {
   "cell_type": "code",
   "execution_count": 24,
   "metadata": {
    "scrolled": true
   },
   "outputs": [
    {
     "data": {
      "text/plain": [
       "<matplotlib.legend.Legend at 0x1ef8189d000>"
      ]
     },
     "execution_count": 24,
     "metadata": {},
     "output_type": "execute_result"
    },
    {
     "data": {
      "image/png": "[encoded data removed]",
      "text/plain": [
       "<Figure size 432x288 with 1 Axes>"
      ]
     },
     "metadata": {
      "needs_background": "light"
     },
     "output_type": "display_data"
    }
   ],
   "source": [
    "# Similarly, for GarageBlt, because the percentage of missing data\n",
    "# was low, we don't expect a big change in the\n",
    "# distribution. However, we see more values\n",
    "# around the median.\n",
    "\n",
    "fig = plt.figure()\n",
    "ax = fig.add_subplot(111)\n",
    "\n",
    "# original variable distribution\n",
    "X_train[\"GarageYrBlt\"].plot(kind=\"kde\", ax=ax)\n",
    "\n",
    "# variable imputed with the median\n",
    "X_train[\"GarageYrBlt_median\"].plot(kind=\"kde\", ax=ax, color=\"red\")\n",
    "\n",
    "# add legends\n",
    "lines, labels = ax.get_legend_handles_labels()\n",
    "ax.legend(lines, labels, loc=\"best\")"
   ]
  },
  {
   "cell_type": "code",
   "execution_count": 25,
   "metadata": {},
   "outputs": [
    {
     "name": "stdout",
     "output_type": "stream",
     "text": [
      "Original Variance:  532.5872021885677\n",
      "Variance after median imputation:  434.0660426541647\n"
     ]
    }
   ],
   "source": [
    "# We can also explore the effect of the imputation technique on\n",
    "# the variance.\n",
    "\n",
    "# We can see a change in the variance after imputation of LotFrontAge.\n",
    "# This is expected, because the percentage of missing data is quite\n",
    "# high ~20%.\n",
    "\n",
    "print(\"Original Variance: \", X_train[\"LotFrontage\"].var())\n",
    "print(\"Variance after median imputation: \", X_train[\"LotFrontage_median\"].var())"
   ]
  },
  {
   "cell_type": "code",
   "execution_count": 26,
   "metadata": {},
   "outputs": [
    {
     "name": "stdout",
     "output_type": "stream",
     "text": [
      "Original Variance:  32983.53871003956\n",
      "Variance after median imputation:  32874.27007404199\n"
     ]
    }
   ],
   "source": [
    "# This is not the case for MasnVnrArea,\n",
    "# because the % of missing data was small.\n",
    "\n",
    "print(\"Original Variance: \", X_train[\"MasVnrArea\"].var())\n",
    "print(\"Variance after median imputation: \", X_train[\"MasVnrArea_median\"].var())"
   ]
  },
  {
   "cell_type": "code",
   "execution_count": 27,
   "metadata": {},
   "outputs": [
    {
     "name": "stdout",
     "output_type": "stream",
     "text": [
      "Original Variance:  624.3059475074142\n",
      "Variance after median imputation:  591.3356883144761\n"
     ]
    }
   ],
   "source": [
    "# For GarageBlt, the % of missing data was small, so the effect\n",
    "# on the variance will also be small.\n",
    "\n",
    "print(\"Original Variance: \", X_train[\"GarageYrBlt\"].var())\n",
    "print(\"Variance after median imputation: \", X_train[\"GarageYrBlt_median\"].var())"
   ]
  },
  {
   "cell_type": "code",
   "execution_count": 28,
   "metadata": {},
   "outputs": [
    {
     "data": {
      "text/html": [
       "<div>\n",
       "<style scoped>\n",
       "    .dataframe tbody tr th:only-of-type {\n",
       "        vertical-align: middle;\n",
       "    }\n",
       "\n",
       "    .dataframe tbody tr th {\n",
       "        vertical-align: top;\n",
       "    }\n",
       "\n",
       "    .dataframe thead th {\n",
       "        text-align: right;\n",
       "    }\n",
       "</style>\n",
       "<table border=\"1\" class=\"dataframe\">\n",
       "  <thead>\n",
       "    <tr style=\"text-align: right;\">\n",
       "      <th></th>\n",
       "      <th>LotFrontage</th>\n",
       "      <th>OverallQual</th>\n",
       "      <th>MasVnrArea</th>\n",
       "      <th>BsmtUnfSF</th>\n",
       "      <th>TotalBsmtSF</th>\n",
       "      <th>1stFlrSF</th>\n",
       "      <th>GrLivArea</th>\n",
       "      <th>GarageYrBlt</th>\n",
       "      <th>WoodDeckSF</th>\n",
       "      <th>LotFrontage_median</th>\n",
       "      <th>MasVnrArea_median</th>\n",
       "      <th>GarageYrBlt_median</th>\n",
       "    </tr>\n",
       "  </thead>\n",
       "  <tbody>\n",
       "    <tr>\n",
       "      <th>LotFrontage</th>\n",
       "      <td>532.587202</td>\n",
       "      <td>6.587119</td>\n",
       "      <td>680.560330</td>\n",
       "      <td>949.657293</td>\n",
       "      <td>2908.855504</td>\n",
       "      <td>3379.793504</td>\n",
       "      <td>3919.951834</td>\n",
       "      <td>30.611717</td>\n",
       "      <td>134.741376</td>\n",
       "      <td>532.587202</td>\n",
       "      <td>674.423263</td>\n",
       "      <td>28.095264</td>\n",
       "    </tr>\n",
       "    <tr>\n",
       "      <th>OverallQual</th>\n",
       "      <td>6.587119</td>\n",
       "      <td>1.843859</td>\n",
       "      <td>101.496976</td>\n",
       "      <td>174.614725</td>\n",
       "      <td>288.624075</td>\n",
       "      <td>224.297266</td>\n",
       "      <td>409.124216</td>\n",
       "      <td>17.902809</td>\n",
       "      <td>31.685571</td>\n",
       "      <td>5.384774</td>\n",
       "      <td>100.533003</td>\n",
       "      <td>16.875386</td>\n",
       "    </tr>\n",
       "    <tr>\n",
       "      <th>MasVnrArea</th>\n",
       "      <td>680.560330</td>\n",
       "      <td>101.496976</td>\n",
       "      <td>32983.538710</td>\n",
       "      <td>7540.788093</td>\n",
       "      <td>24788.765410</td>\n",
       "      <td>20865.952051</td>\n",
       "      <td>35207.851440</td>\n",
       "      <td>1203.583792</td>\n",
       "      <td>3208.924282</td>\n",
       "      <td>553.921303</td>\n",
       "      <td>32983.538710</td>\n",
       "      <td>1134.380889</td>\n",
       "    </tr>\n",
       "    <tr>\n",
       "      <th>BsmtUnfSF</th>\n",
       "      <td>949.657293</td>\n",
       "      <td>174.614725</td>\n",
       "      <td>7540.788093</td>\n",
       "      <td>187524.082211</td>\n",
       "      <td>75133.073210</td>\n",
       "      <td>49874.491456</td>\n",
       "      <td>52033.920768</td>\n",
       "      <td>1823.065167</td>\n",
       "      <td>-1833.200962</td>\n",
       "      <td>788.095358</td>\n",
       "      <td>7472.110064</td>\n",
       "      <td>1724.141544</td>\n",
       "    </tr>\n",
       "    <tr>\n",
       "      <th>TotalBsmtSF</th>\n",
       "      <td>2908.855504</td>\n",
       "      <td>288.624075</td>\n",
       "      <td>24788.765410</td>\n",
       "      <td>75133.073210</td>\n",
       "      <td>168293.103282</td>\n",
       "      <td>121207.901604</td>\n",
       "      <td>86151.918290</td>\n",
       "      <td>3173.042442</td>\n",
       "      <td>12279.657062</td>\n",
       "      <td>2370.929189</td>\n",
       "      <td>24654.359956</td>\n",
       "      <td>2989.473391</td>\n",
       "    </tr>\n",
       "    <tr>\n",
       "      <th>1stFlrSF</th>\n",
       "      <td>3379.793504</td>\n",
       "      <td>224.297266</td>\n",
       "      <td>20865.952051</td>\n",
       "      <td>49874.491456</td>\n",
       "      <td>121207.901604</td>\n",
       "      <td>139865.628874</td>\n",
       "      <td>104440.129463</td>\n",
       "      <td>2009.195552</td>\n",
       "      <td>11094.055866</td>\n",
       "      <td>2750.747094</td>\n",
       "      <td>20801.356845</td>\n",
       "      <td>1890.271636</td>\n",
       "    </tr>\n",
       "    <tr>\n",
       "      <th>GrLivArea</th>\n",
       "      <td>3919.951834</td>\n",
       "      <td>409.124216</td>\n",
       "      <td>35207.851440</td>\n",
       "      <td>52033.920768</td>\n",
       "      <td>86151.918290</td>\n",
       "      <td>104440.129463</td>\n",
       "      <td>268127.660673</td>\n",
       "      <td>2738.982988</td>\n",
       "      <td>15583.954782</td>\n",
       "      <td>3189.685753</td>\n",
       "      <td>34967.143367</td>\n",
       "      <td>2576.345636</td>\n",
       "    </tr>\n",
       "    <tr>\n",
       "      <th>GarageYrBlt</th>\n",
       "      <td>30.611717</td>\n",
       "      <td>17.902809</td>\n",
       "      <td>1203.583792</td>\n",
       "      <td>1823.065167</td>\n",
       "      <td>3173.042442</td>\n",
       "      <td>2009.195552</td>\n",
       "      <td>2738.982988</td>\n",
       "      <td>624.305948</td>\n",
       "      <td>665.891118</td>\n",
       "      <td>24.755173</td>\n",
       "      <td>1182.673336</td>\n",
       "      <td>624.305948</td>\n",
       "    </tr>\n",
       "    <tr>\n",
       "      <th>WoodDeckSF</th>\n",
       "      <td>134.741376</td>\n",
       "      <td>31.685571</td>\n",
       "      <td>3208.924282</td>\n",
       "      <td>-1833.200962</td>\n",
       "      <td>12279.657062</td>\n",
       "      <td>11094.055866</td>\n",
       "      <td>15583.954782</td>\n",
       "      <td>665.891118</td>\n",
       "      <td>16485.820460</td>\n",
       "      <td>106.009105</td>\n",
       "      <td>3212.100972</td>\n",
       "      <td>627.624634</td>\n",
       "    </tr>\n",
       "    <tr>\n",
       "      <th>LotFrontage_median</th>\n",
       "      <td>532.587202</td>\n",
       "      <td>5.384774</td>\n",
       "      <td>553.921303</td>\n",
       "      <td>788.095358</td>\n",
       "      <td>2370.929189</td>\n",
       "      <td>2750.747094</td>\n",
       "      <td>3189.685753</td>\n",
       "      <td>24.755173</td>\n",
       "      <td>106.009105</td>\n",
       "      <td>434.066043</td>\n",
       "      <td>548.848031</td>\n",
       "      <td>22.883476</td>\n",
       "    </tr>\n",
       "    <tr>\n",
       "      <th>MasVnrArea_median</th>\n",
       "      <td>674.423263</td>\n",
       "      <td>100.533003</td>\n",
       "      <td>32983.538710</td>\n",
       "      <td>7472.110064</td>\n",
       "      <td>24654.359956</td>\n",
       "      <td>20801.356845</td>\n",
       "      <td>34967.143367</td>\n",
       "      <td>1182.673336</td>\n",
       "      <td>3212.100972</td>\n",
       "      <td>548.848031</td>\n",
       "      <td>32874.270074</td>\n",
       "      <td>1115.571890</td>\n",
       "    </tr>\n",
       "    <tr>\n",
       "      <th>GarageYrBlt_median</th>\n",
       "      <td>28.095264</td>\n",
       "      <td>16.875386</td>\n",
       "      <td>1134.380889</td>\n",
       "      <td>1724.141544</td>\n",
       "      <td>2989.473391</td>\n",
       "      <td>1890.271636</td>\n",
       "      <td>2576.345636</td>\n",
       "      <td>624.305948</td>\n",
       "      <td>627.624634</td>\n",
       "      <td>22.883476</td>\n",
       "      <td>1115.571890</td>\n",
       "      <td>591.335688</td>\n",
       "    </tr>\n",
       "  </tbody>\n",
       "</table>\n",
       "</div>"
      ],
      "text/plain": [
       "                    LotFrontage  OverallQual    MasVnrArea      BsmtUnfSF  \\\n",
       "LotFrontage          532.587202     6.587119    680.560330     949.657293   \n",
       "OverallQual            6.587119     1.843859    101.496976     174.614725   \n",
       "MasVnrArea           680.560330   101.496976  32983.538710    7540.788093   \n",
       "BsmtUnfSF            949.657293   174.614725   7540.788093  187524.082211   \n",
       "TotalBsmtSF         2908.855504   288.624075  24788.765410   75133.073210   \n",
       "1stFlrSF            3379.793504   224.297266  20865.952051   49874.491456   \n",
       "GrLivArea           3919.951834   409.124216  35207.851440   52033.920768   \n",
       "GarageYrBlt           30.611717    17.902809   1203.583792    1823.065167   \n",
       "WoodDeckSF           134.741376    31.685571   3208.924282   -1833.200962   \n",
       "LotFrontage_median   532.587202     5.384774    553.921303     788.095358   \n",
       "MasVnrArea_median    674.423263   100.533003  32983.538710    7472.110064   \n",
       "GarageYrBlt_median    28.095264    16.875386   1134.380889    1724.141544   \n",
       "\n",
       "                      TotalBsmtSF       1stFlrSF      GrLivArea  GarageYrBlt  \\\n",
       "LotFrontage           2908.855504    3379.793504    3919.951834    30.611717   \n",
       "OverallQual            288.624075     224.297266     409.124216    17.902809   \n",
       "MasVnrArea           24788.765410   20865.952051   35207.851440  1203.583792   \n",
       "BsmtUnfSF            75133.073210   49874.491456   52033.920768  1823.065167   \n",
       "TotalBsmtSF         168293.103282  121207.901604   86151.918290  3173.042442   \n",
       "1stFlrSF            121207.901604  139865.628874  104440.129463  2009.195552   \n",
       "GrLivArea            86151.918290  104440.129463  268127.660673  2738.982988   \n",
       "GarageYrBlt           3173.042442    2009.195552    2738.982988   624.305948   \n",
       "WoodDeckSF           12279.657062   11094.055866   15583.954782   665.891118   \n",
       "LotFrontage_median    2370.929189    2750.747094    3189.685753    24.755173   \n",
       "MasVnrArea_median    24654.359956   20801.356845   34967.143367  1182.673336   \n",
       "GarageYrBlt_median    2989.473391    1890.271636    2576.345636   624.305948   \n",
       "\n",
       "                      WoodDeckSF  LotFrontage_median  MasVnrArea_median  \\\n",
       "LotFrontage           134.741376          532.587202         674.423263   \n",
       "OverallQual            31.685571            5.384774         100.533003   \n",
       "MasVnrArea           3208.924282          553.921303       32983.538710   \n",
       "BsmtUnfSF           -1833.200962          788.095358        7472.110064   \n",
       "TotalBsmtSF         12279.657062         2370.929189       24654.359956   \n",
       "1stFlrSF            11094.055866         2750.747094       20801.356845   \n",
       "GrLivArea           15583.954782         3189.685753       34967.143367   \n",
       "GarageYrBlt           665.891118           24.755173        1182.673336   \n",
       "WoodDeckSF          16485.820460          106.009105        3212.100972   \n",
       "LotFrontage_median    106.009105          434.066043         548.848031   \n",
       "MasVnrArea_median    3212.100972          548.848031       32874.270074   \n",
       "GarageYrBlt_median    627.624634           22.883476        1115.571890   \n",
       "\n",
       "                    GarageYrBlt_median  \n",
       "LotFrontage                  28.095264  \n",
       "OverallQual                  16.875386  \n",
       "MasVnrArea                 1134.380889  \n",
       "BsmtUnfSF                  1724.141544  \n",
       "TotalBsmtSF                2989.473391  \n",
       "1stFlrSF                   1890.271636  \n",
       "GrLivArea                  2576.345636  \n",
       "GarageYrBlt                 624.305948  \n",
       "WoodDeckSF                  627.624634  \n",
       "LotFrontage_median           22.883476  \n",
       "MasVnrArea_median          1115.571890  \n",
       "GarageYrBlt_median          591.335688  "
      ]
     },
     "execution_count": 28,
     "metadata": {},
     "output_type": "execute_result"
    }
   ],
   "source": [
    "# Finally, let's explore the covariance:\n",
    "# Take your time to compare the values in the table below.\n",
    "# See how the covariance is affected for LotFrontAge but not\n",
    "# so much for the other 2 variables.\n",
    "\n",
    "X_train.cov()"
   ]
  },
  {
   "cell_type": "code",
   "execution_count": 29,
   "metadata": {},
   "outputs": [
    {
     "data": {
      "text/plain": [
       "<Axes: >"
      ]
     },
     "execution_count": 29,
     "metadata": {},
     "output_type": "execute_result"
    },
    {
     "data": {
      "image/png": "[encoded data removed]",
      "text/plain": [
       "<Figure size 432x288 with 1 Axes>"
      ]
     },
     "metadata": {
      "needs_background": "light"
     },
     "output_type": "display_data"
    }
   ],
   "source": [
    "# Finally, let's explore the effect on outliers.\n",
    "\n",
    "# There is a decrease in the outlier boundaries for LotFrontage\n",
    "# (look at the height of the top whiskers),\n",
    "# but there is not a visible effect for the other 2 variables.\n",
    "\n",
    "X_train[[\"LotFrontage\", \"LotFrontage_median\"]].boxplot()"
   ]
  },
  {
   "cell_type": "code",
   "execution_count": 30,
   "metadata": {},
   "outputs": [
    {
     "data": {
      "text/plain": [
       "<Axes: >"
      ]
     },
     "execution_count": 30,
     "metadata": {},
     "output_type": "execute_result"
    },
    {
     "data": {
      "image/png": "[encoded data removed]",
      "text/plain": [
       "<Figure size 432x288 with 1 Axes>"
      ]
     },
     "metadata": {
      "needs_background": "light"
     },
     "output_type": "display_data"
    }
   ],
   "source": [
    "X_train[[\"MasVnrArea\", \"MasVnrArea_median\"]].boxplot()"
   ]
  },
  {
   "cell_type": "code",
   "execution_count": 31,
   "metadata": {},
   "outputs": [
    {
     "data": {
      "text/plain": [
       "<Axes: >"
      ]
     },
     "execution_count": 31,
     "metadata": {},
     "output_type": "execute_result"
    },
    {
     "data": {
      "image/png": "[encoded data removed]",
      "text/plain": [
       "<Figure size 432x288 with 1 Axes>"
      ]
     },
     "metadata": {
      "needs_background": "light"
     },
     "output_type": "display_data"
    }
   ],
   "source": [
    "X_train[[\"GarageYrBlt\", \"GarageYrBlt_median\"]].boxplot()"
   ]
  },
  {
   "cell_type": "markdown",
   "metadata": {
    "collapsed": true,
    "jupyter": {
     "outputs_hidden": true
    }
   },
   "source": [
    "Later in this section, we will carry out mean / median imputation with open source Python packages."
   ]
  },
  {
   "cell_type": "code",
   "execution_count": null,
   "metadata": {},
   "outputs": [],
   "source": []
  }
 ],
 "metadata": {
  "kernelspec": {
   "display_name": "Python 3 (ipykernel)",
   "language": "python",
   "name": "python3"
  },
  "language_info": {
   "codemirror_mode": {
    "name": "ipython",
    "version": 3
   },
   "file_extension": ".py",
   "mimetype": "text/x-python",
   "name": "python",
   "nbconvert_exporter": "python",
   "pygments_lexer": "ipython3",
   "version": "3.11.0"
  },
  "toc": {
   "base_numbering": 1,
   "nav_menu": {},
   "number_sections": true,
   "sideBar": true,
   "skip_h1_title": false,
   "title_cell": "Table of Contents",
   "title_sidebar": "Contents",
   "toc_cell": false,
   "toc_position": {
    "height": "556px",
    "left": "0px",
    "right": "1156.4px",
    "top": "107px",
    "width": "278px"
   },
   "toc_section_display": "block",
   "toc_window_display": true
  }
 },
 "nbformat": 4,
 "nbformat_minor": 4
}
